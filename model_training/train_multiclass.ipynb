{
 "cells": [
  {
   "attachments": {},
   "cell_type": "markdown",
   "metadata": {},
   "source": [
    "# Training of the multiclass classification model\n",
    "## Author: Vilem Gottwald\n"
   ]
  },
  {
   "attachments": {},
   "cell_type": "markdown",
   "metadata": {},
   "source": [
    "#### Extract features and load GT classes from dataset"
   ]
  },
  {
   "cell_type": "code",
   "execution_count": 1,
   "metadata": {},
   "outputs": [
    {
     "name": "stdout",
     "output_type": "stream",
     "text": [
      "Shape of the extracted features: (48104, 7, 37)\n",
      "Shape of the GT classes: (48104,)\n"
     ]
    }
   ],
   "source": [
    "# import paths and \n",
    "from common import DATA_PATH, SCALER_PATH, DATASET_PATH, FEATURES_PATH, CLASSES_PATH\n",
    "from classifier import FeaturesExtractor\n",
    "import numpy as np\n",
    "\n",
    "# Load features and gt classes\n",
    "dataset_extractor = FeaturesExtractor()\n",
    "try:\n",
    "    dataset_extractor.load_from_saved_gt(FEATURES_PATH, CLASSES_PATH)\n",
    "except FileNotFoundError:\n",
    "    dataset_extractor.extract_from_dataset_gt(DATASET_PATH)\n",
    "    dataset_extractor.save_gt(FEATURES_PATH, CLASSES_PATH)\n",
    "\n",
    "objects_features, objects_classes = dataset_extractor.get_gt()\n",
    "\n",
    "print('Shape of the extracted features:', objects_features.shape)\n",
    "print('Shape of the GT classes:', objects_classes.shape)\n",
    "\n",
    "# Check for NaN values in the extracted features\n",
    "if np.isnan(objects_features).any():\n",
    "    raise ValueError(\"NaN values in features\")\n"
   ]
  },
  {
   "attachments": {},
   "cell_type": "markdown",
   "metadata": {
    "tags": []
   },
   "source": [
    "### Functions for finding the best dataset split"
   ]
  },
  {
   "cell_type": "code",
   "execution_count": 2,
   "metadata": {},
   "outputs": [],
   "source": [
    "def split_data(data, offset, test_ratio=0.2):\n",
    "    \"\"\" Split data into training and validation sets with given offset\n",
    "\n",
    "    :param data: data to split\n",
    "    :param offset: offset of the first sample in the data\n",
    "    :param test_ratio: ratio of test data\n",
    "    \n",
    "    :return: tuple of training and validation data\n",
    "    \"\"\"\n",
    "    test_samples_cnt = int(data.shape[0] * test_ratio)\n",
    "\n",
    "    # sequence starting ar offset us used as test data\n",
    "    test_data = data[offset : offset + test_samples_cnt]\n",
    "\n",
    "    # train data - concatenate data before and after test data\n",
    "    train_data = np.concatenate(\n",
    "        (data[:offset], data[offset + test_samples_cnt :]), axis=0\n",
    "    )\n",
    "    return train_data, test_data\n",
    "\n",
    "\n",
    "def classes_ratio(classes, percentage=True, ref_classes=None):\n",
    "    \"\"\" Compute ratio of classes in the given data\n",
    "\n",
    "    :param classes: classes to compute ratio from\n",
    "    :param percentage: whether to return ratio as percentage\n",
    "    \n",
    "    :return: array of ratios\n",
    "    \"\"\"\n",
    "    curr_class_ids, counts = np.unique(classes, return_counts=True)\n",
    "\n",
    "    if ref_classes is not None and not curr_class_ids.shape[0] == len(ref_classes):\n",
    "        # add missing classes counts\n",
    "        for idx, ref_cls in enumerate(ref_classes):\n",
    "            if ref_cls not in curr_class_ids:\n",
    "                curr_class_ids = np.insert(curr_class_ids, idx, ref_cls)\n",
    "                counts = np.insert(counts, ref_cls, 0)   \n",
    "\n",
    "    if percentage:\n",
    "        counts = counts / np.sum(counts)\n",
    "    return counts\n",
    "\n",
    "\n",
    "def classes_distribution_difference(ratio1, ratio2):\n",
    "    \"\"\" Compute difference between two classes distributions\n",
    "\n",
    "    :param ratio1: first distribution\n",
    "    :param ratio2: second distribution\n",
    "\n",
    "    :return: difference between distributions\n",
    "    \"\"\"\n",
    "\n",
    "    return np.sum(np.abs(ratio1 - ratio2))\n",
    "\n",
    "\n",
    "def find_min_difference_offset(classes, test_ratio=0.2):\n",
    "    \"\"\" Find offset with smallest difference between training and validation classes distribution\n",
    "    \n",
    "    :param classes: classes to split\n",
    "    :param test_ratio: ratio of test data\n",
    "\n",
    "    :return: offset with smallest difference between training and validation classes distribution\n",
    "    \"\"\"\n",
    "    ref_classes = np.unique(classes)\n",
    "\n",
    "    differences = []\n",
    "    for offset in range(classes.shape[0]):\n",
    "        train_classes, test_classes = split_data(classes, offset)\n",
    "        train_ratio = classes_ratio(train_classes, ref_classes=ref_classes)\n",
    "        test_ratio = classes_ratio(test_classes, ref_classes=ref_classes)\n",
    "        differences.append(classes_distribution_difference(train_ratio, test_ratio))\n",
    "\n",
    "    # get index of offset with smallest percentage difference\n",
    "        min_index = np.argmin(differences)\n",
    "    return min_index, differences[min_index]"
   ]
  },
  {
   "attachments": {},
   "cell_type": "markdown",
   "metadata": {},
   "source": [
    "### Split dataset to train and test data\n",
    "Different methods are contained in the following cell:\n",
    "1. Shuffle split results in training with samples from the test data, because of the point clouds grouping over consecutive frames. \n",
    "2. First split has uneven distribution of classes in the train and test dataset.\n",
    "3. Best split uses the functions defined in the previous cell, to find a testing sequence with the most similar class distributions"
   ]
  },
  {
   "cell_type": "code",
   "execution_count": 3,
   "metadata": {},
   "outputs": [
    {
     "name": "stdout",
     "output_type": "stream",
     "text": [
      "Split index: 28162\n",
      "Classes:               noise       car        van    box truck    truck\n",
      "Train distribution:    4.38 %    49.96 %    14.75 %    7.35 %    23.57 %\n",
      "Test distribution:     6.21 %    49.98 %    14.59 %    7.55 %    21.67 %\n"
     ]
    }
   ],
   "source": [
    "from sklearn.model_selection import train_test_split\n",
    "X = objects_features.copy()\n",
    "y = objects_classes.copy()\n",
    "\n",
    "DATASET_TYPE = 'best_split'\n",
    "\n",
    "if DATASET_TYPE == 'shuffle_split':\n",
    "    X_train, X_test, y_train, y_test = train_test_split(X, y, shuffle=True, test_size=0.2)\n",
    "    \n",
    "elif DATASET_TYPE == 'first_split':\n",
    "    X_train, X_test, y_train, y_test = train_test_split(X, y, shuffle=False, test_size=0.2)\n",
    "\n",
    "elif DATASET_TYPE == 'best_split':\n",
    "    min_index, min_difference = find_min_difference_offset(y)\n",
    "    X_train, X_test = split_data(X, min_index)\n",
    "    y_train, y_test = split_data(y, min_index)\n",
    "\n",
    "train_ratio = classes_ratio(y_train) * 100\n",
    "test_ratio = classes_ratio(y_test) * 100\n",
    "\n",
    "\n",
    "train_strings = [f\"{ratio:.2f} %\" for ratio in train_ratio]\n",
    "test_strings = [f\"{ratio:.2f} %\" for ratio in test_ratio]\n",
    "\n",
    "print(\"Split index:\", min_index)\n",
    "\n",
    "print( \"Classes:               noise       car        van    box truck    truck\")\n",
    "print(\"Train distribution:\", *train_strings, sep='    ')\n",
    "print(\"Test distribution: \", *test_strings, sep='    ')"
   ]
  },
  {
   "attachments": {},
   "cell_type": "markdown",
   "metadata": {},
   "source": [
    "### Get class weights to overcome class imbalances"
   ]
  },
  {
   "cell_type": "code",
   "execution_count": 4,
   "metadata": {},
   "outputs": [
    {
     "name": "stdout",
     "output_type": "stream",
     "text": [
      "Class weights: {0: 4.562418494368702, 1: 0.4003537061118336, 2: 1.3562643171806168, 3: 2.7216407355021217, 4: 0.8486933509758519}\n"
     ]
    }
   ],
   "source": [
    "from sklearn.utils.class_weight import compute_class_weight\n",
    "\n",
    "if len(y_train.shape) == 1:\n",
    "    classes = np.unique(y_train)\n",
    "    class_weights = compute_class_weight(class_weight=\"balanced\", classes=classes, y=y_train)\n",
    "    class_weights = dict(enumerate(class_weights))\n",
    "print(\"Class weights:\", class_weights)"
   ]
  },
  {
   "attachments": {},
   "cell_type": "markdown",
   "metadata": {},
   "source": [
    " ### Encode class labels in one hot encoding for training"
   ]
  },
  {
   "cell_type": "code",
   "execution_count": 5,
   "metadata": {},
   "outputs": [
    {
     "name": "stdout",
     "output_type": "stream",
     "text": [
      "Original class of the first object:  4 4\n",
      "Encoded class of the first object:  [0. 0. 0. 0. 1.] [0. 0. 0. 0. 1.]\n"
     ]
    }
   ],
   "source": [
    "from tensorflow import keras\n",
    "from keras.utils import np_utils\n",
    "\n",
    "print('Original class of the first object: ', y_train[0], y_test[0])\n",
    "\n",
    "if len(y_train.shape) == 1:\n",
    "    y_train = np_utils.to_categorical(y_train)\n",
    "    y_test = np_utils.to_categorical(y_test)\n",
    "\n",
    "print('Encoded class of the first object: ', y_train[0], y_test[0])"
   ]
  },
  {
   "attachments": {},
   "cell_type": "markdown",
   "metadata": {},
   "source": [
    "### Normalization of features "
   ]
  },
  {
   "cell_type": "code",
   "execution_count": 6,
   "metadata": {},
   "outputs": [
    {
     "name": "stdout",
     "output_type": "stream",
     "text": [
      "Original features from the first time step of the first object\n",
      " [  5.61487818   6.82223797   6.14307745   1.20735979   0.41247637\n",
      "   0.17013675   9.77830124  12.10122967  11.10685811   2.32292843\n",
      "   0.72850723   0.53072278   0.67462593   1.74327934   1.20779838\n",
      "   1.0686534    0.36656      0.13436624  99.         134.\n",
      " 116.92307692  35.           9.8485574   96.99408284 546.\n",
      " 578.         563.53846154  32.           9.50801593  90.40236686\n",
      "  16.53354454  17.57637405  17.13629679   1.04282951   0.32601906\n",
      "   0.10628843  13.        ]\n",
      "\n",
      "Normalized  features from the first time step of the first object\n",
      " [0.78179024 0.84101482 0.8080033  0.17195739 0.16469037 0.02712292\n",
      " 0.12268508 0.15177109 0.13934045 0.06707996 0.05329159 0.00283999\n",
      " 0.11275506 0.29056496 0.20186799 0.17913229 0.13294529 0.01767445\n",
      " 0.5        0.38616715 0.49760729 0.14056225 0.15755525 0.02482366\n",
      " 0.90848586 0.83646889 0.92839944 0.20253165 0.22864965 0.05228066\n",
      " 0.69882273 0.70122374 0.69938437 0.05176798 0.04984958 0.00248498\n",
      " 0.05752212]\n"
     ]
    }
   ],
   "source": [
    "from sklearn.preprocessing import MinMaxScaler\n",
    "import joblib\n",
    "\n",
    "# Create scaler and save it for later use\n",
    "scaler = MinMaxScaler()\n",
    "scaler.fit(X_train.reshape(-1, X_train.shape[-1]))\n",
    "joblib.dump(scaler, SCALER_PATH)\n",
    "\n",
    "print('Original features from the first time step of the first object\\n', X_train[0][0])\n",
    "\n",
    "# normalize training data\n",
    "X_train = scaler.transform(X_train.reshape(-1, X_train.shape[-1])).reshape(X_train.shape)\n",
    "X_test = scaler.transform(X_test.reshape(-1, X_test.shape[-1])).reshape(X_test.shape)\n",
    "\n",
    "print('\\nNormalized  features from the first time step of the first object\\n', X_train[0][0])\n"
   ]
  },
  {
   "attachments": {},
   "cell_type": "markdown",
   "metadata": {},
   "source": [
    "### Train the model or load it if it was already trained"
   ]
  },
  {
   "cell_type": "code",
   "execution_count": 7,
   "metadata": {},
   "outputs": [
    {
     "name": "stdout",
     "output_type": "stream",
     "text": [
      "WARNING:tensorflow:Layer lstm_2 will not use cuDNN kernels since it doesn't meet the criteria. It will use a generic GPU kernel as fallback when running on GPU.\n"
     ]
    }
   ],
   "source": [
    "from tensorflow import keras\n",
    "from keras.layers import LSTM, Dense, Masking\n",
    "from keras.models import Sequential\n",
    "from keras.metrics import Precision, Recall\n",
    "from keras.callbacks import TensorBoard\n",
    "\n",
    "\n",
    "# Directory to save the model\n",
    "MODEL_DIR = DATA_PATH / \"training\" / \"models\" / \"multiclass\"\n",
    "MODEL_DIR.mkdir(parents=True, exist_ok=True)\n",
    "\n",
    "LOG_DIR = str(MODEL_DIR / \"logs\")\n",
    "MODEL_PATH = str(MODEL_DIR / \"model.h5\")\n",
    "\n",
    "# Load the model if it exists\n",
    "try:\n",
    "    model = keras.models.load_model(MODEL_PATH)\n",
    "\n",
    "except OSError:\n",
    "\n",
    "    # Model parameters\n",
    "    TIMESTEPS_CNT = objects_features.shape[1]\n",
    "    FEATURES_CNT = objects_features.shape[2]\n",
    "    EPOCHS = 150\n",
    "    CELLS = 10\n",
    "    BATCH_SIZE = 256\n",
    "\n",
    "\n",
    "    # Create the model\n",
    "    model = Sequential()\n",
    "    model.add(Masking(mask_value=0.0, input_shape=(TIMESTEPS_CNT, FEATURES_CNT)))\n",
    "    model.add(LSTM(CELLS, recurrent_dropout=0.2))\n",
    "    model.add(Dense(5, activation=\"softmax\"))\n",
    "\n",
    "    model.compile(\n",
    "        loss=\"categorical_crossentropy\",\n",
    "        optimizer=\"Adam\",\n",
    "        metrics=[\"categorical_accuracy\", Precision(), Recall()],\n",
    "    )\n",
    "\n",
    "    model.summary()\n",
    "\n",
    "\n",
    "    # Train the model\n",
    "    model.fit(\n",
    "        X_train,\n",
    "        y_train,\n",
    "        epochs=140,\n",
    "        batch_size=256,\n",
    "        class_weight=class_weights,\n",
    "        validation_data=(X_test, y_test),\n",
    "        callbacks=TensorBoard(log_dir=LOG_DIR, histogram_freq=1),\n",
    "    )\n",
    "\n",
    "    # Save the trained model\n",
    "    model.save(MODEL_PATH)"
   ]
  },
  {
   "attachments": {},
   "cell_type": "markdown",
   "metadata": {},
   "source": [
    "### Functions for model evaluation"
   ]
  },
  {
   "cell_type": "code",
   "execution_count": 8,
   "metadata": {},
   "outputs": [],
   "source": [
    "from sklearn.metrics import (\n",
    "    accuracy_score,\n",
    "    confusion_matrix,\n",
    "    f1_score,\n",
    "    precision_score,\n",
    "    recall_score,\n",
    ")\n",
    "\n",
    "import pandas as pd\n",
    "import seaborn as sn\n",
    "from matplotlib import pyplot as plt\n",
    "\n",
    "def print_metrics(truth, prediction):\n",
    "    \"\"\" Print accuracy, precision, recall, F1-score and confusion matrix.\n",
    "    \n",
    "    :param truth: ground truth labels\n",
    "    :param prediction: predicted labels\n",
    "    \n",
    "    :return: confusion matrix\n",
    "    \"\"\"\n",
    "    confusion_mtx = confusion_matrix(truth, prediction)\n",
    "\n",
    "    print(f\"Accuracy:  {accuracy_score(truth, prediction) * 100:0.2f} %\")\n",
    "    print(f\"Precision: {precision_score(truth, prediction, average='macro') * 100:0.2f} %\")\n",
    "    print(f\"Recall:    {recall_score(truth, prediction, average='macro') * 100:0.2f} %\")\n",
    "    print(f\"F1-score:  {f1_score(truth, prediction, average='macro') * 100:0.2f} %\")\n",
    "    print(f\"\\nConfusion matrix:\\n\", confusion_mtx)\n",
    "\n",
    "    return confusion_mtx\n",
    "\n",
    "\n",
    "\n",
    "def plot_confusion_matrix(cm, save_path=None, labels=['noise', 'car', 'van', 'box truck', 'truck']):\n",
    "    \"\"\" Plot confusion matrix.\n",
    "    \n",
    "    :param cm: confusion matrix\n",
    "    :param save_path: path to save the plot\n",
    "    :param labels: list of labels\n",
    "    \n",
    "    :return: None\n",
    "    \"\"\"\n",
    "\n",
    "    df_cm = pd.DataFrame(cm, index=labels, columns=labels)\n",
    "\n",
    "    ax = sn.heatmap(df_cm, cmap='Greens', annot=True, fmt='d')\n",
    "\n",
    "    # Put x-axis ticks and labels on the top of the plot\n",
    "    ax.xaxis.tick_top()\n",
    "    ax.xaxis.set_label_position('top')\n",
    "\n",
    "    # Set axes labels\n",
    "    ax.set_xlabel('Predicted', fontsize=13, weight='semibold', color='black')\n",
    "    ax.set_ylabel('Ground truth', fontsize=13, weight='semibold')\n",
    "\n",
    "    # Add space between labels and ticks\n",
    "    ax.xaxis.set_label_coords(0.5, 1.1)\n",
    "    ax.yaxis.set_label_coords(-0.1, 0.5)\n",
    "\n",
    "    if save_path is not None:\n",
    "        plt.savefig(save_path)\n",
    "\n",
    "    plt.show()\n"
   ]
  },
  {
   "attachments": {},
   "cell_type": "markdown",
   "metadata": {},
   "source": [
    "### Predict labels of test data and evaluate"
   ]
  },
  {
   "cell_type": "code",
   "execution_count": 9,
   "metadata": {},
   "outputs": [
    {
     "name": "stdout",
     "output_type": "stream",
     "text": [
      "Accuracy:  69.91 %\n",
      "Precision: 60.78 %\n",
      "Recall:    67.57 %\n",
      "F1-score:  62.99 %\n",
      "\n",
      "Confusion matrix:\n",
      " [[ 390  114   20   35   38]\n",
      " [ 325 3343  875   79  186]\n",
      " [ 108  248  894  115   39]\n",
      " [  35   12   97  431  151]\n",
      " [  65   23   56  274 1667]]\n"
     ]
    },
    {
     "data": {
      "image/png": "[encoded data removed]",
      "text/plain": [
       "<Figure size 640x480 with 2 Axes>"
      ]
     },
     "metadata": {},
     "output_type": "display_data"
    }
   ],
   "source": [
    "prediction_probabilities = model.predict(X_test)\n",
    "prediction = np.argmax(prediction_probabilities, axis=1)\n",
    "truth = np.argmax(y_test, axis=1)\n",
    "\n",
    "\n",
    "cm = print_metrics(truth, prediction)\n",
    "plot_confusion_matrix(cm, save_path=str(MODEL_DIR / \"confusion_matrix.pdf\"))\n"
   ]
  }
 ],
 "metadata": {
  "kernelspec": {
   "display_name": "bp-tf",
   "language": "python",
   "name": "python3"
  },
  "language_info": {
   "codemirror_mode": {
    "name": "ipython",
    "version": 3
   },
   "file_extension": ".py",
   "mimetype": "text/x-python",
   "name": "python",
   "nbconvert_exporter": "python",
   "pygments_lexer": "ipython3",
   "version": "3.9.16"
  },
  "orig_nbformat": 4
 },
 "nbformat": 4,
 "nbformat_minor": 2
}
